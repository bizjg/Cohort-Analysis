{
 "cells": [
  {
   "cell_type": "markdown",
   "metadata": {},
   "source": [
    "# Cohort Analysis Step-by-Step\n",
    "\n",
    "\n",
    "## Table of Content\n",
    "* **Part 1: Data Exploration**\n",
    "  * General exploration\n",
    "  * Missing data\n",
    "  * Duplicate rows\n",
    "* **Part 2: Cohort Analysis**\n"
   ]
  },
  {
   "cell_type": "markdown",
   "metadata": {},
   "source": [
    "## Setup"
   ]
  },
  {
   "cell_type": "code",
   "execution_count": 44,
   "metadata": {},
   "outputs": [],
   "source": [
    "# Importing libraries\n",
    "import pandas as pd\n",
    "import matplotlib.pyplot as plt\n",
    "import matplotlib.colors as mcolors\n",
    "import seaborn as sns\n",
    "import numpy as np\n",
    "from operator import attrgetter\n",
    "from pandas_profiling import ProfileReport"
   ]
  },
  {
   "cell_type": "code",
   "execution_count": 2,
   "metadata": {},
   "outputs": [],
   "source": [
    "# Getting data\n",
    "df = pd.read_excel('online_retail_II.xlsx'\n",
    "                   , dtype = {'Customer ID': str\n",
    "                             , 'InvoiceId': str}\n",
    "                  )"
   ]
  },
  {
   "cell_type": "markdown",
   "metadata": {},
   "source": [
    "## Part 1: Data Exploration"
   ]
  },
  {
   "cell_type": "markdown",
   "metadata": {},
   "source": [
    "#### Various functions for general data exploration"
   ]
  },
  {
   "cell_type": "code",
   "execution_count": 3,
   "metadata": {},
   "outputs": [
    {
     "data": {
      "text/html": [
       "<div>\n",
       "<style scoped>\n",
       "    .dataframe tbody tr th:only-of-type {\n",
       "        vertical-align: middle;\n",
       "    }\n",
       "\n",
       "    .dataframe tbody tr th {\n",
       "        vertical-align: top;\n",
       "    }\n",
       "\n",
       "    .dataframe thead th {\n",
       "        text-align: right;\n",
       "    }\n",
       "</style>\n",
       "<table border=\"1\" class=\"dataframe\">\n",
       "  <thead>\n",
       "    <tr style=\"text-align: right;\">\n",
       "      <th></th>\n",
       "      <th>count</th>\n",
       "      <th>mean</th>\n",
       "      <th>std</th>\n",
       "      <th>min</th>\n",
       "      <th>25%</th>\n",
       "      <th>50%</th>\n",
       "      <th>75%</th>\n",
       "      <th>max</th>\n",
       "    </tr>\n",
       "  </thead>\n",
       "  <tbody>\n",
       "    <tr>\n",
       "      <th>Quantity</th>\n",
       "      <td>525461.0</td>\n",
       "      <td>10.337667</td>\n",
       "      <td>107.424110</td>\n",
       "      <td>-9600.00</td>\n",
       "      <td>1.00</td>\n",
       "      <td>3.0</td>\n",
       "      <td>10.00</td>\n",
       "      <td>19152.00</td>\n",
       "    </tr>\n",
       "    <tr>\n",
       "      <th>Price</th>\n",
       "      <td>525461.0</td>\n",
       "      <td>4.688834</td>\n",
       "      <td>146.126914</td>\n",
       "      <td>-53594.36</td>\n",
       "      <td>1.25</td>\n",
       "      <td>2.1</td>\n",
       "      <td>4.21</td>\n",
       "      <td>25111.09</td>\n",
       "    </tr>\n",
       "  </tbody>\n",
       "</table>\n",
       "</div>"
      ],
      "text/plain": [
       "             count       mean         std       min   25%  50%    75%  \\\n",
       "Quantity  525461.0  10.337667  107.424110  -9600.00  1.00  3.0  10.00   \n",
       "Price     525461.0   4.688834  146.126914 -53594.36  1.25  2.1   4.21   \n",
       "\n",
       "               max  \n",
       "Quantity  19152.00  \n",
       "Price     25111.09  "
      ]
     },
     "execution_count": 3,
     "metadata": {},
     "output_type": "execute_result"
    }
   ],
   "source": [
    "# profile = ProfileReport(df, explorative=True)\n",
    "# profile\n",
    "\n",
    "# df.head()\n",
    "# df.info()\n",
    "df.describe().transpose()"
   ]
  },
  {
   "cell_type": "markdown",
   "metadata": {},
   "source": [
    "**Notes: Need to look into rows with a negative quantity and/or price.**"
   ]
  },
  {
   "cell_type": "markdown",
   "metadata": {},
   "source": [
    "### Checking for Missing Data"
   ]
  },
  {
   "cell_type": "code",
   "execution_count": 5,
   "metadata": {},
   "outputs": [
    {
     "data": {
      "text/plain": [
       "Invoice             0\n",
       "StockCode           0\n",
       "Description      2928\n",
       "Quantity            0\n",
       "InvoiceDate         0\n",
       "Price               0\n",
       "Customer ID    107927\n",
       "Country             0\n",
       "dtype: int64"
      ]
     },
     "execution_count": 5,
     "metadata": {},
     "output_type": "execute_result"
    }
   ],
   "source": [
    "df.isna().sum()"
   ]
  },
  {
   "cell_type": "markdown",
   "metadata": {},
   "source": [
    "**We're going to drop any rows with a missing customer id since this is required for a cohort analysis.**"
   ]
  },
  {
   "cell_type": "code",
   "execution_count": 11,
   "metadata": {},
   "outputs": [
    {
     "data": {
      "text/plain": [
       "Invoice        0\n",
       "StockCode      0\n",
       "Description    0\n",
       "Quantity       0\n",
       "InvoiceDate    0\n",
       "Price          0\n",
       "Customer ID    0\n",
       "Country        0\n",
       "dtype: int64"
      ]
     },
     "execution_count": 11,
     "metadata": {},
     "output_type": "execute_result"
    }
   ],
   "source": [
    "df = df.dropna(subset=['Customer ID'])\n",
    "df.isna().sum()"
   ]
  },
  {
   "cell_type": "markdown",
   "metadata": {},
   "source": [
    "### Checking for Duplicate Rows"
   ]
  },
  {
   "cell_type": "code",
   "execution_count": 12,
   "metadata": {},
   "outputs": [
    {
     "data": {
      "text/html": [
       "<div>\n",
       "<style scoped>\n",
       "    .dataframe tbody tr th:only-of-type {\n",
       "        vertical-align: middle;\n",
       "    }\n",
       "\n",
       "    .dataframe tbody tr th {\n",
       "        vertical-align: top;\n",
       "    }\n",
       "\n",
       "    .dataframe thead th {\n",
       "        text-align: right;\n",
       "    }\n",
       "</style>\n",
       "<table border=\"1\" class=\"dataframe\">\n",
       "  <thead>\n",
       "    <tr style=\"text-align: right;\">\n",
       "      <th></th>\n",
       "      <th>Invoice</th>\n",
       "      <th>StockCode</th>\n",
       "      <th>Description</th>\n",
       "      <th>Quantity</th>\n",
       "      <th>InvoiceDate</th>\n",
       "      <th>Price</th>\n",
       "      <th>Customer ID</th>\n",
       "      <th>Country</th>\n",
       "    </tr>\n",
       "  </thead>\n",
       "  <tbody>\n",
       "    <tr>\n",
       "      <th>362</th>\n",
       "      <td>489517</td>\n",
       "      <td>21913</td>\n",
       "      <td>VINTAGE SEASIDE JIGSAW PUZZLES</td>\n",
       "      <td>1</td>\n",
       "      <td>2009-12-01 11:34:00</td>\n",
       "      <td>3.75</td>\n",
       "      <td>16329</td>\n",
       "      <td>United Kingdom</td>\n",
       "    </tr>\n",
       "    <tr>\n",
       "      <th>363</th>\n",
       "      <td>489517</td>\n",
       "      <td>21912</td>\n",
       "      <td>VINTAGE SNAKES &amp; LADDERS</td>\n",
       "      <td>1</td>\n",
       "      <td>2009-12-01 11:34:00</td>\n",
       "      <td>3.75</td>\n",
       "      <td>16329</td>\n",
       "      <td>United Kingdom</td>\n",
       "    </tr>\n",
       "    <tr>\n",
       "      <th>365</th>\n",
       "      <td>489517</td>\n",
       "      <td>21821</td>\n",
       "      <td>GLITTER STAR GARLAND WITH BELLS</td>\n",
       "      <td>1</td>\n",
       "      <td>2009-12-01 11:34:00</td>\n",
       "      <td>3.75</td>\n",
       "      <td>16329</td>\n",
       "      <td>United Kingdom</td>\n",
       "    </tr>\n",
       "    <tr>\n",
       "      <th>367</th>\n",
       "      <td>489517</td>\n",
       "      <td>22319</td>\n",
       "      <td>HAIRCLIPS FORTIES FABRIC ASSORTED</td>\n",
       "      <td>12</td>\n",
       "      <td>2009-12-01 11:34:00</td>\n",
       "      <td>0.65</td>\n",
       "      <td>16329</td>\n",
       "      <td>United Kingdom</td>\n",
       "    </tr>\n",
       "    <tr>\n",
       "      <th>368</th>\n",
       "      <td>489517</td>\n",
       "      <td>22130</td>\n",
       "      <td>PARTY CONE CHRISTMAS DECORATION</td>\n",
       "      <td>6</td>\n",
       "      <td>2009-12-01 11:34:00</td>\n",
       "      <td>0.85</td>\n",
       "      <td>16329</td>\n",
       "      <td>United Kingdom</td>\n",
       "    </tr>\n",
       "    <tr>\n",
       "      <th>...</th>\n",
       "      <td>...</td>\n",
       "      <td>...</td>\n",
       "      <td>...</td>\n",
       "      <td>...</td>\n",
       "      <td>...</td>\n",
       "      <td>...</td>\n",
       "      <td>...</td>\n",
       "      <td>...</td>\n",
       "    </tr>\n",
       "    <tr>\n",
       "      <th>525170</th>\n",
       "      <td>538155</td>\n",
       "      <td>21907</td>\n",
       "      <td>I'M ON HOLIDAY METAL SIGN</td>\n",
       "      <td>1</td>\n",
       "      <td>2010-12-09 16:52:00</td>\n",
       "      <td>2.10</td>\n",
       "      <td>16907</td>\n",
       "      <td>United Kingdom</td>\n",
       "    </tr>\n",
       "    <tr>\n",
       "      <th>525292</th>\n",
       "      <td>538166</td>\n",
       "      <td>21915</td>\n",
       "      <td>RED  HARMONICA IN BOX</td>\n",
       "      <td>5</td>\n",
       "      <td>2010-12-09 18:09:00</td>\n",
       "      <td>1.25</td>\n",
       "      <td>17965</td>\n",
       "      <td>United Kingdom</td>\n",
       "    </tr>\n",
       "    <tr>\n",
       "      <th>525293</th>\n",
       "      <td>538166</td>\n",
       "      <td>21915</td>\n",
       "      <td>RED  HARMONICA IN BOX</td>\n",
       "      <td>5</td>\n",
       "      <td>2010-12-09 18:09:00</td>\n",
       "      <td>1.25</td>\n",
       "      <td>17965</td>\n",
       "      <td>United Kingdom</td>\n",
       "    </tr>\n",
       "    <tr>\n",
       "      <th>525330</th>\n",
       "      <td>538168</td>\n",
       "      <td>22739</td>\n",
       "      <td>RIBBON REEL CHRISTMAS SOCK BAUBLE</td>\n",
       "      <td>5</td>\n",
       "      <td>2010-12-09 19:23:00</td>\n",
       "      <td>1.65</td>\n",
       "      <td>14702</td>\n",
       "      <td>United Kingdom</td>\n",
       "    </tr>\n",
       "    <tr>\n",
       "      <th>525340</th>\n",
       "      <td>538168</td>\n",
       "      <td>22739</td>\n",
       "      <td>RIBBON REEL CHRISTMAS SOCK BAUBLE</td>\n",
       "      <td>5</td>\n",
       "      <td>2010-12-09 19:23:00</td>\n",
       "      <td>1.65</td>\n",
       "      <td>14702</td>\n",
       "      <td>United Kingdom</td>\n",
       "    </tr>\n",
       "  </tbody>\n",
       "</table>\n",
       "<p>13102 rows × 8 columns</p>\n",
       "</div>"
      ],
      "text/plain": [
       "       Invoice StockCode                        Description  Quantity  \\\n",
       "362     489517     21913     VINTAGE SEASIDE JIGSAW PUZZLES         1   \n",
       "363     489517     21912           VINTAGE SNAKES & LADDERS         1   \n",
       "365     489517     21821   GLITTER STAR GARLAND WITH BELLS          1   \n",
       "367     489517     22319  HAIRCLIPS FORTIES FABRIC ASSORTED        12   \n",
       "368     489517     22130   PARTY CONE CHRISTMAS DECORATION          6   \n",
       "...        ...       ...                                ...       ...   \n",
       "525170  538155     21907          I'M ON HOLIDAY METAL SIGN         1   \n",
       "525292  538166     21915             RED  HARMONICA IN BOX          5   \n",
       "525293  538166     21915             RED  HARMONICA IN BOX          5   \n",
       "525330  538168     22739  RIBBON REEL CHRISTMAS SOCK BAUBLE         5   \n",
       "525340  538168     22739  RIBBON REEL CHRISTMAS SOCK BAUBLE         5   \n",
       "\n",
       "               InvoiceDate  Price Customer ID         Country  \n",
       "362    2009-12-01 11:34:00   3.75       16329  United Kingdom  \n",
       "363    2009-12-01 11:34:00   3.75       16329  United Kingdom  \n",
       "365    2009-12-01 11:34:00   3.75       16329  United Kingdom  \n",
       "367    2009-12-01 11:34:00   0.65       16329  United Kingdom  \n",
       "368    2009-12-01 11:34:00   0.85       16329  United Kingdom  \n",
       "...                    ...    ...         ...             ...  \n",
       "525170 2010-12-09 16:52:00   2.10       16907  United Kingdom  \n",
       "525292 2010-12-09 18:09:00   1.25       17965  United Kingdom  \n",
       "525293 2010-12-09 18:09:00   1.25       17965  United Kingdom  \n",
       "525330 2010-12-09 19:23:00   1.65       14702  United Kingdom  \n",
       "525340 2010-12-09 19:23:00   1.65       14702  United Kingdom  \n",
       "\n",
       "[13102 rows x 8 columns]"
      ]
     },
     "execution_count": 12,
     "metadata": {},
     "output_type": "execute_result"
    }
   ],
   "source": [
    "df[df.duplicated(keep=False) == True]"
   ]
  },
  {
   "cell_type": "markdown",
   "metadata": {},
   "source": [
    "**Notice that there are some rows that are duplicates (eg. 525292 and 252293).**\n",
    "**I want to see if the quantity is fixed and two rows represents two orders, or if the quantity can be different.**"
   ]
  },
  {
   "cell_type": "code",
   "execution_count": 20,
   "metadata": {},
   "outputs": [
    {
     "data": {
      "text/html": [
       "<div>\n",
       "<style scoped>\n",
       "    .dataframe tbody tr th:only-of-type {\n",
       "        vertical-align: middle;\n",
       "    }\n",
       "\n",
       "    .dataframe tbody tr th {\n",
       "        vertical-align: top;\n",
       "    }\n",
       "\n",
       "    .dataframe thead th {\n",
       "        text-align: right;\n",
       "    }\n",
       "</style>\n",
       "<table border=\"1\" class=\"dataframe\">\n",
       "  <thead>\n",
       "    <tr style=\"text-align: right;\">\n",
       "      <th></th>\n",
       "      <th>Invoice</th>\n",
       "      <th>StockCode</th>\n",
       "      <th>Description</th>\n",
       "      <th>Quantity</th>\n",
       "      <th>InvoiceDate</th>\n",
       "      <th>Price</th>\n",
       "      <th>Customer ID</th>\n",
       "      <th>Country</th>\n",
       "    </tr>\n",
       "  </thead>\n",
       "  <tbody>\n",
       "    <tr>\n",
       "      <th>67267</th>\n",
       "      <td>495365</td>\n",
       "      <td>21955</td>\n",
       "      <td>DOORMAT UNION JACK GUNS AND ROSES</td>\n",
       "      <td>1</td>\n",
       "      <td>2010-01-24 12:15:00</td>\n",
       "      <td>6.75</td>\n",
       "      <td>14701</td>\n",
       "      <td>United Kingdom</td>\n",
       "    </tr>\n",
       "    <tr>\n",
       "      <th>75205</th>\n",
       "      <td>496288</td>\n",
       "      <td>21955</td>\n",
       "      <td>DOORMAT UNION JACK GUNS AND ROSES</td>\n",
       "      <td>2</td>\n",
       "      <td>2010-01-29 17:25:00</td>\n",
       "      <td>6.75</td>\n",
       "      <td>17603</td>\n",
       "      <td>United Kingdom</td>\n",
       "    </tr>\n",
       "    <tr>\n",
       "      <th>66003</th>\n",
       "      <td>495290</td>\n",
       "      <td>21955</td>\n",
       "      <td>DOORMAT UNION JACK GUNS AND ROSES</td>\n",
       "      <td>3</td>\n",
       "      <td>2010-01-22 12:46:00</td>\n",
       "      <td>6.75</td>\n",
       "      <td>15867</td>\n",
       "      <td>United Kingdom</td>\n",
       "    </tr>\n",
       "    <tr>\n",
       "      <th>68831</th>\n",
       "      <td>495503</td>\n",
       "      <td>21955</td>\n",
       "      <td>DOORMAT UNION JACK GUNS AND ROSES</td>\n",
       "      <td>3</td>\n",
       "      <td>2010-01-25 12:50:00</td>\n",
       "      <td>6.75</td>\n",
       "      <td>15858</td>\n",
       "      <td>United Kingdom</td>\n",
       "    </tr>\n",
       "    <tr>\n",
       "      <th>60655</th>\n",
       "      <td>494794</td>\n",
       "      <td>21955</td>\n",
       "      <td>DOORMAT UNION JACK GUNS AND ROSES</td>\n",
       "      <td>2</td>\n",
       "      <td>2010-01-18 14:11:00</td>\n",
       "      <td>6.75</td>\n",
       "      <td>13037</td>\n",
       "      <td>United Kingdom</td>\n",
       "    </tr>\n",
       "    <tr>\n",
       "      <th>...</th>\n",
       "      <td>...</td>\n",
       "      <td>...</td>\n",
       "      <td>...</td>\n",
       "      <td>...</td>\n",
       "      <td>...</td>\n",
       "      <td>...</td>\n",
       "      <td>...</td>\n",
       "      <td>...</td>\n",
       "    </tr>\n",
       "    <tr>\n",
       "      <th>435211</th>\n",
       "      <td>530955</td>\n",
       "      <td>84832</td>\n",
       "      <td>ZINC WILLIE WINKIE  CANDLE STICK</td>\n",
       "      <td>12</td>\n",
       "      <td>2010-11-04 18:48:00</td>\n",
       "      <td>0.85</td>\n",
       "      <td>16128</td>\n",
       "      <td>United Kingdom</td>\n",
       "    </tr>\n",
       "    <tr>\n",
       "      <th>6609</th>\n",
       "      <td>489905</td>\n",
       "      <td>84832</td>\n",
       "      <td>ZINC WILLIE WINKIE  CANDLE STICK</td>\n",
       "      <td>12</td>\n",
       "      <td>2009-12-03 10:03:00</td>\n",
       "      <td>0.85</td>\n",
       "      <td>13800</td>\n",
       "      <td>United Kingdom</td>\n",
       "    </tr>\n",
       "    <tr>\n",
       "      <th>78606</th>\n",
       "      <td>496520</td>\n",
       "      <td>84832</td>\n",
       "      <td>ZINC WILLIE WINKIE  CANDLE STICK</td>\n",
       "      <td>3</td>\n",
       "      <td>2010-02-02 12:17:00</td>\n",
       "      <td>0.85</td>\n",
       "      <td>15311</td>\n",
       "      <td>United Kingdom</td>\n",
       "    </tr>\n",
       "    <tr>\n",
       "      <th>338875</th>\n",
       "      <td>522437</td>\n",
       "      <td>84832</td>\n",
       "      <td>ZINC WILLIE WINKIE  CANDLE STICK</td>\n",
       "      <td>1</td>\n",
       "      <td>2010-09-14 13:56:00</td>\n",
       "      <td>0.85</td>\n",
       "      <td>17346</td>\n",
       "      <td>United Kingdom</td>\n",
       "    </tr>\n",
       "    <tr>\n",
       "      <th>91001</th>\n",
       "      <td>497949</td>\n",
       "      <td>84832</td>\n",
       "      <td>ZINC WILLIE WINKIE  CANDLE STICK</td>\n",
       "      <td>24</td>\n",
       "      <td>2010-02-15 12:10:00</td>\n",
       "      <td>0.85</td>\n",
       "      <td>16327</td>\n",
       "      <td>United Kingdom</td>\n",
       "    </tr>\n",
       "  </tbody>\n",
       "</table>\n",
       "<p>417534 rows × 8 columns</p>\n",
       "</div>"
      ],
      "text/plain": [
       "       Invoice StockCode                          Description  Quantity  \\\n",
       "67267   495365     21955    DOORMAT UNION JACK GUNS AND ROSES         1   \n",
       "75205   496288     21955    DOORMAT UNION JACK GUNS AND ROSES         2   \n",
       "66003   495290     21955    DOORMAT UNION JACK GUNS AND ROSES         3   \n",
       "68831   495503     21955    DOORMAT UNION JACK GUNS AND ROSES         3   \n",
       "60655   494794     21955    DOORMAT UNION JACK GUNS AND ROSES         2   \n",
       "...        ...       ...                                  ...       ...   \n",
       "435211  530955     84832     ZINC WILLIE WINKIE  CANDLE STICK        12   \n",
       "6609    489905     84832     ZINC WILLIE WINKIE  CANDLE STICK        12   \n",
       "78606   496520     84832     ZINC WILLIE WINKIE  CANDLE STICK         3   \n",
       "338875  522437     84832     ZINC WILLIE WINKIE  CANDLE STICK         1   \n",
       "91001   497949     84832     ZINC WILLIE WINKIE  CANDLE STICK        24   \n",
       "\n",
       "               InvoiceDate  Price Customer ID         Country  \n",
       "67267  2010-01-24 12:15:00   6.75       14701  United Kingdom  \n",
       "75205  2010-01-29 17:25:00   6.75       17603  United Kingdom  \n",
       "66003  2010-01-22 12:46:00   6.75       15867  United Kingdom  \n",
       "68831  2010-01-25 12:50:00   6.75       15858  United Kingdom  \n",
       "60655  2010-01-18 14:11:00   6.75       13037  United Kingdom  \n",
       "...                    ...    ...         ...             ...  \n",
       "435211 2010-11-04 18:48:00   0.85       16128  United Kingdom  \n",
       "6609   2009-12-03 10:03:00   0.85       13800  United Kingdom  \n",
       "78606  2010-02-02 12:17:00   0.85       15311  United Kingdom  \n",
       "338875 2010-09-14 13:56:00   0.85       17346  United Kingdom  \n",
       "91001  2010-02-15 12:10:00   0.85       16327  United Kingdom  \n",
       "\n",
       "[417534 rows x 8 columns]"
      ]
     },
     "execution_count": 20,
     "metadata": {},
     "output_type": "execute_result"
    }
   ],
   "source": [
    "df.sort_values(by='Description')"
   ]
  },
  {
   "cell_type": "markdown",
   "metadata": {},
   "source": [
    "**Since the quantity can differ, I'm going to assume that this is a record keeping error and remove any duplicate rows.**"
   ]
  },
  {
   "cell_type": "code",
   "execution_count": 15,
   "metadata": {},
   "outputs": [
    {
     "data": {
      "text/plain": [
       "(417534, 8)"
      ]
     },
     "execution_count": 15,
     "metadata": {},
     "output_type": "execute_result"
    }
   ],
   "source": [
    "df.shape"
   ]
  },
  {
   "cell_type": "code",
   "execution_count": 21,
   "metadata": {},
   "outputs": [
    {
     "data": {
      "text/plain": [
       "(410763, 8)"
      ]
     },
     "execution_count": 21,
     "metadata": {},
     "output_type": "execute_result"
    }
   ],
   "source": [
    "df = df.drop_duplicates(keep='first')\n",
    "df.shape"
   ]
  },
  {
   "cell_type": "markdown",
   "metadata": {},
   "source": [
    "## Part 2: Cohort Analysis"
   ]
  },
  {
   "cell_type": "markdown",
   "metadata": {},
   "source": [
    "### Percentage of Repeat Customers"
   ]
  },
  {
   "cell_type": "code",
   "execution_count": 55,
   "metadata": {},
   "outputs": [
    {
     "data": {
      "image/png": "[encoded data removed]",
      "text/plain": [
       "<Figure size 864x576 with 3 Axes>"
      ]
     },
     "metadata": {},
     "output_type": "display_data"
    }
   ],
   "source": [
    "# Step 1: Select relevant columns\n",
    "df = df[['Customer ID','Invoice','InvoiceDate']].drop_duplicates()\n",
    "\n",
    "# Step 2: Create cohort and order_month variables\n",
    "df['order_month'] = df['InvoiceDate'].dt.to_period('M')\n",
    "\n",
    "df['cohort'] = df.groupby('Customer ID')['InvoiceDate'] \\\n",
    "                 .transform('min') \\\n",
    "                 .dt.to_period('M')\n",
    "\n",
    "# Step 3: Aggregate the data by cohort and order_month\n",
    "df_cohort = df.groupby(['cohort','order_month']) \\\n",
    "              .agg(num_customers=('Customer ID','nunique')) \\\n",
    "              .reset_index(drop=False)\n",
    "\n",
    "df_cohort['period_number'] = (df_cohort['order_month'] - df_cohort['cohort']).apply(attrgetter('n'))\n",
    "\n",
    "# Step 4: Pivot the data\n",
    "cohort_pivot = df_cohort.pivot_table(index = 'cohort'\n",
    "                                    ,columns = 'period_number'\n",
    "                                    ,values = 'num_customers')\n",
    "\n",
    "# Step 5: Divide by initial cohort size\n",
    "cohort_size = cohort_pivot.iloc[:,0]\n",
    "\n",
    "retention_matrix = cohort_pivot.divide(cohort_size, axis=0)\n",
    "\n",
    "# Step 6: Create heatmap\n",
    "with sns.axes_style(\"dark\"):\n",
    "    fig, ax = plt.subplots(1, 2, figsize=(12, 8), sharey=True, gridspec_kw={'width_ratios': [1, 11]})\n",
    "    \n",
    "    # retention matrix\n",
    "    sns.heatmap(retention_matrix, \n",
    "                mask=retention_matrix.isnull(), \n",
    "                annot=True, \n",
    "                fmt='.0%', \n",
    "                cmap='RdYlGn', \n",
    "                ax=ax[1])\n",
    "    ax[1].set_title('Monthly Cohorts: User Retention', fontsize=16)\n",
    "    ax[1].set(xlabel='# of periods',\n",
    "              ylabel='')\n",
    "\n",
    "    # cohort size\n",
    "    cohort_size_df = pd.DataFrame(cohort_size).rename(columns={0: 'cohort_size'})\n",
    "    sns.heatmap(cohort_size_df, \n",
    "                annot=True, \n",
    "                cbar=False, \n",
    "                fmt='g', \n",
    "                cmap='RdYlGn',\n",
    "                ax=ax[0])\n",
    "\n",
    "    fig.tight_layout()"
   ]
  }
 ],
 "metadata": {
  "kernelspec": {
   "display_name": "Python 3",
   "language": "python",
   "name": "python3"
  },
  "language_info": {
   "codemirror_mode": {
    "name": "ipython",
    "version": 3
   },
   "file_extension": ".py",
   "mimetype": "text/x-python",
   "name": "python",
   "nbconvert_exporter": "python",
   "pygments_lexer": "ipython3",
   "version": "3.8.5"
  }
 },
 "nbformat": 4,
 "nbformat_minor": 4
}
